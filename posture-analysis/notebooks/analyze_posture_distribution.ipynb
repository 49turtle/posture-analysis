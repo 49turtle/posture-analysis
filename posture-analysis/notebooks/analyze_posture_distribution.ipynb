{
 "cells": [
  {
   "cell_type": "code",
   "execution_count": 103,
   "id": "5f678c44-4708-4029-8b53-71aba5c1b31f",
   "metadata": {},
   "outputs": [],
   "source": [
    "import json\n",
    "import pandas as pd\n",
    "import matplotlib.pyplot as plt\n",
    "import seaborn as sns"
   ]
  },
  {
   "cell_type": "code",
   "execution_count": 104,
   "id": "649a1682-e396-4128-8dee-3346c9fe1e85",
   "metadata": {},
   "outputs": [],
   "source": [
    "# JSON 파일 로드\n",
    "with open('../data/processed/labeled_keypoints_01.json', 'r', encoding='utf-8') as f:\n",
    "    data = json.load(f)"
   ]
  },
  {
   "cell_type": "code",
   "execution_count": 105,
   "id": "063a50c4-7a3d-4a73-b07e-825d38cda543",
   "metadata": {},
   "outputs": [
    {
     "data": {
      "text/html": [
       "<div>\n",
       "<style scoped>\n",
       "    .dataframe tbody tr th:only-of-type {\n",
       "        vertical-align: middle;\n",
       "    }\n",
       "\n",
       "    .dataframe tbody tr th {\n",
       "        vertical-align: top;\n",
       "    }\n",
       "\n",
       "    .dataframe thead th {\n",
       "        text-align: right;\n",
       "    }\n",
       "</style>\n",
       "<table border=\"1\" class=\"dataframe\">\n",
       "  <thead>\n",
       "    <tr style=\"text-align: right;\">\n",
       "      <th></th>\n",
       "      <th>source</th>\n",
       "      <th>label</th>\n",
       "      <th>details</th>\n",
       "      <th>keypoints.right_ankle</th>\n",
       "      <th>keypoints.right_knee</th>\n",
       "      <th>keypoints.right_hip</th>\n",
       "      <th>keypoints.left_hip</th>\n",
       "      <th>keypoints.left_knee</th>\n",
       "      <th>keypoints.left_ankle</th>\n",
       "      <th>keypoints.pelvis</th>\n",
       "      <th>...</th>\n",
       "      <th>keypoints.right_eye</th>\n",
       "      <th>keypoints.left_eye</th>\n",
       "      <th>keypoints.right_ear</th>\n",
       "      <th>keypoints.left_ear</th>\n",
       "      <th>keypoints.left_big_toe</th>\n",
       "      <th>keypoints.left_small_toe</th>\n",
       "      <th>keypoints.left_heel</th>\n",
       "      <th>keypoints.right_big_toe</th>\n",
       "      <th>keypoints.right_small_toe</th>\n",
       "      <th>keypoints.right_heel</th>\n",
       "    </tr>\n",
       "  </thead>\n",
       "  <tbody>\n",
       "    <tr>\n",
       "      <th>0</th>\n",
       "      <td>ai_hub</td>\n",
       "      <td>good_posture</td>\n",
       "      <td>[]</td>\n",
       "      <td>[925.0, 631.0, 2.0]</td>\n",
       "      <td>[933.0, 540.0, 2.0]</td>\n",
       "      <td>[938.0, 440.0, 2.0]</td>\n",
       "      <td>[988.0, 444.0, 2.0]</td>\n",
       "      <td>[979.0, 544.0, 2.0]</td>\n",
       "      <td>[966.0, 627.0, 2.0]</td>\n",
       "      <td>[969.0, 440.0, 2.0]</td>\n",
       "      <td>...</td>\n",
       "      <td>NaN</td>\n",
       "      <td>NaN</td>\n",
       "      <td>NaN</td>\n",
       "      <td>NaN</td>\n",
       "      <td>NaN</td>\n",
       "      <td>NaN</td>\n",
       "      <td>NaN</td>\n",
       "      <td>NaN</td>\n",
       "      <td>NaN</td>\n",
       "      <td>NaN</td>\n",
       "    </tr>\n",
       "    <tr>\n",
       "      <th>1</th>\n",
       "      <td>ai_hub</td>\n",
       "      <td>good_posture</td>\n",
       "      <td>[]</td>\n",
       "      <td>[945.0, 631.0, 2.0]</td>\n",
       "      <td>[985.0, 544.0, 2.0]</td>\n",
       "      <td>[957.0, 443.0, 2.0]</td>\n",
       "      <td>[1004.0, 447.0, 2.0]</td>\n",
       "      <td>[1010.0, 559.0, 2.0]</td>\n",
       "      <td>[972.0, 630.0, 2.0]</td>\n",
       "      <td>[983.0, 445.0, 2.0]</td>\n",
       "      <td>...</td>\n",
       "      <td>NaN</td>\n",
       "      <td>NaN</td>\n",
       "      <td>NaN</td>\n",
       "      <td>NaN</td>\n",
       "      <td>NaN</td>\n",
       "      <td>NaN</td>\n",
       "      <td>NaN</td>\n",
       "      <td>NaN</td>\n",
       "      <td>NaN</td>\n",
       "      <td>NaN</td>\n",
       "    </tr>\n",
       "    <tr>\n",
       "      <th>2</th>\n",
       "      <td>ai_hub</td>\n",
       "      <td>good_posture</td>\n",
       "      <td>[]</td>\n",
       "      <td>[985.0, 639.0, 2.0]</td>\n",
       "      <td>[1012.0, 552.0, 2.0]</td>\n",
       "      <td>[991.0, 448.0, 2.0]</td>\n",
       "      <td>[1046.0, 450.0, 2.0]</td>\n",
       "      <td>[1033.0, 555.0, 2.0]</td>\n",
       "      <td>[969.0, 619.0, 2.0]</td>\n",
       "      <td>[1022.0, 448.0, 2.0]</td>\n",
       "      <td>...</td>\n",
       "      <td>NaN</td>\n",
       "      <td>NaN</td>\n",
       "      <td>NaN</td>\n",
       "      <td>NaN</td>\n",
       "      <td>NaN</td>\n",
       "      <td>NaN</td>\n",
       "      <td>NaN</td>\n",
       "      <td>NaN</td>\n",
       "      <td>NaN</td>\n",
       "      <td>NaN</td>\n",
       "    </tr>\n",
       "    <tr>\n",
       "      <th>3</th>\n",
       "      <td>ai_hub</td>\n",
       "      <td>good_posture</td>\n",
       "      <td>[]</td>\n",
       "      <td>[995.0, 610.0, 2.0]</td>\n",
       "      <td>[1075.0, 530.0, 2.0]</td>\n",
       "      <td>[1082.0, 426.0, 2.0]</td>\n",
       "      <td>[1130.0, 425.0, 2.0]</td>\n",
       "      <td>[1130.0, 535.0, 2.0]</td>\n",
       "      <td>[1121.0, 629.0, 2.0]</td>\n",
       "      <td>[1106.0, 426.0, 2.0]</td>\n",
       "      <td>...</td>\n",
       "      <td>NaN</td>\n",
       "      <td>NaN</td>\n",
       "      <td>NaN</td>\n",
       "      <td>NaN</td>\n",
       "      <td>NaN</td>\n",
       "      <td>NaN</td>\n",
       "      <td>NaN</td>\n",
       "      <td>NaN</td>\n",
       "      <td>NaN</td>\n",
       "      <td>NaN</td>\n",
       "    </tr>\n",
       "    <tr>\n",
       "      <th>4</th>\n",
       "      <td>ai_hub</td>\n",
       "      <td>good_posture</td>\n",
       "      <td>[]</td>\n",
       "      <td>[1247.0, 632.0, 2.0]</td>\n",
       "      <td>[1242.0, 521.0, 2.0]</td>\n",
       "      <td>[1206.0, 418.0, 2.0]</td>\n",
       "      <td>[1153.0, 419.0, 2.0]</td>\n",
       "      <td>[1175.0, 526.0, 2.0]</td>\n",
       "      <td>[1130.0, 620.0, 2.0]</td>\n",
       "      <td>[1173.0, 409.0, 2.0]</td>\n",
       "      <td>...</td>\n",
       "      <td>NaN</td>\n",
       "      <td>NaN</td>\n",
       "      <td>NaN</td>\n",
       "      <td>NaN</td>\n",
       "      <td>NaN</td>\n",
       "      <td>NaN</td>\n",
       "      <td>NaN</td>\n",
       "      <td>NaN</td>\n",
       "      <td>NaN</td>\n",
       "      <td>NaN</td>\n",
       "    </tr>\n",
       "  </tbody>\n",
       "</table>\n",
       "<p>5 rows × 31 columns</p>\n",
       "</div>"
      ],
      "text/plain": [
       "   source         label details keypoints.right_ankle  keypoints.right_knee  \\\n",
       "0  ai_hub  good_posture      []   [925.0, 631.0, 2.0]   [933.0, 540.0, 2.0]   \n",
       "1  ai_hub  good_posture      []   [945.0, 631.0, 2.0]   [985.0, 544.0, 2.0]   \n",
       "2  ai_hub  good_posture      []   [985.0, 639.0, 2.0]  [1012.0, 552.0, 2.0]   \n",
       "3  ai_hub  good_posture      []   [995.0, 610.0, 2.0]  [1075.0, 530.0, 2.0]   \n",
       "4  ai_hub  good_posture      []  [1247.0, 632.0, 2.0]  [1242.0, 521.0, 2.0]   \n",
       "\n",
       "    keypoints.right_hip    keypoints.left_hip   keypoints.left_knee  \\\n",
       "0   [938.0, 440.0, 2.0]   [988.0, 444.0, 2.0]   [979.0, 544.0, 2.0]   \n",
       "1   [957.0, 443.0, 2.0]  [1004.0, 447.0, 2.0]  [1010.0, 559.0, 2.0]   \n",
       "2   [991.0, 448.0, 2.0]  [1046.0, 450.0, 2.0]  [1033.0, 555.0, 2.0]   \n",
       "3  [1082.0, 426.0, 2.0]  [1130.0, 425.0, 2.0]  [1130.0, 535.0, 2.0]   \n",
       "4  [1206.0, 418.0, 2.0]  [1153.0, 419.0, 2.0]  [1175.0, 526.0, 2.0]   \n",
       "\n",
       "   keypoints.left_ankle      keypoints.pelvis  ... keypoints.right_eye  \\\n",
       "0   [966.0, 627.0, 2.0]   [969.0, 440.0, 2.0]  ...                 NaN   \n",
       "1   [972.0, 630.0, 2.0]   [983.0, 445.0, 2.0]  ...                 NaN   \n",
       "2   [969.0, 619.0, 2.0]  [1022.0, 448.0, 2.0]  ...                 NaN   \n",
       "3  [1121.0, 629.0, 2.0]  [1106.0, 426.0, 2.0]  ...                 NaN   \n",
       "4  [1130.0, 620.0, 2.0]  [1173.0, 409.0, 2.0]  ...                 NaN   \n",
       "\n",
       "  keypoints.left_eye keypoints.right_ear keypoints.left_ear  \\\n",
       "0                NaN                 NaN                NaN   \n",
       "1                NaN                 NaN                NaN   \n",
       "2                NaN                 NaN                NaN   \n",
       "3                NaN                 NaN                NaN   \n",
       "4                NaN                 NaN                NaN   \n",
       "\n",
       "  keypoints.left_big_toe keypoints.left_small_toe keypoints.left_heel  \\\n",
       "0                    NaN                      NaN                 NaN   \n",
       "1                    NaN                      NaN                 NaN   \n",
       "2                    NaN                      NaN                 NaN   \n",
       "3                    NaN                      NaN                 NaN   \n",
       "4                    NaN                      NaN                 NaN   \n",
       "\n",
       "  keypoints.right_big_toe keypoints.right_small_toe keypoints.right_heel  \n",
       "0                     NaN                       NaN                  NaN  \n",
       "1                     NaN                       NaN                  NaN  \n",
       "2                     NaN                       NaN                  NaN  \n",
       "3                     NaN                       NaN                  NaN  \n",
       "4                     NaN                       NaN                  NaN  \n",
       "\n",
       "[5 rows x 31 columns]"
      ]
     },
     "execution_count": 105,
     "metadata": {},
     "output_type": "execute_result"
    }
   ],
   "source": [
    "df = pd.json_normalize(data)\n",
    "df.head()"
   ]
  },
  {
   "cell_type": "code",
   "execution_count": 106,
   "id": "0f7659ab-af2c-4290-848b-ade78df51095",
   "metadata": {},
   "outputs": [
    {
     "name": "stdout",
     "output_type": "stream",
     "text": [
      "label\n",
      "good_posture    417\n",
      "bad_posture      17\n",
      "Name: count, dtype: int64\n"
     ]
    }
   ],
   "source": [
    "# 자세 분포 확인\n",
    "posture_counts = df['label'].value_counts()\n",
    "print(posture_counts)"
   ]
  },
  {
   "cell_type": "code",
   "execution_count": 107,
   "id": "2ca61602-e8cf-43de-a82d-f2060f9b8db5",
   "metadata": {},
   "outputs": [
    {
     "name": "stderr",
     "output_type": "stream",
     "text": [
      "C:\\Users\\SSAFY\\AppData\\Local\\Temp\\ipykernel_6776\\1092863413.py:3: FutureWarning: \n",
      "\n",
      "Passing `palette` without assigning `hue` is deprecated and will be removed in v0.14.0. Assign the `x` variable to `hue` and set `legend=False` for the same effect.\n",
      "\n",
      "  sns.barplot(x=posture_counts.index, y=posture_counts.values, palette='viridis')\n"
     ]
    },
    {
     "data": {
      "image/png": "[encoded data removed]",
      "text/plain": [
       "<Figure size 1000x600 with 1 Axes>"
      ]
     },
     "metadata": {},
     "output_type": "display_data"
    }
   ],
   "source": [
    "# 자세 분포 시각화\n",
    "plt.figure(figsize=(10, 6))\n",
    "sns.barplot(x=posture_counts.index, y=posture_counts.values, palette='viridis')\n",
    "plt.title('Distribution of Good and Bad Postures')\n",
    "plt.xlabel('Posture Label')\n",
    "plt.ylabel('Count')\n",
    "plt.show()"
   ]
  },
  {
   "cell_type": "code",
   "execution_count": 108,
   "id": "bb85b9a8-659a-4caa-afa5-9fc2e36a0bb6",
   "metadata": {},
   "outputs": [
    {
     "name": "stdout",
     "output_type": "stream",
     "text": [
      "details\n",
      "bad_right_elbow_angle    17\n",
      "bad_left_elbow_angle     17\n",
      "bad_right_leg_angle      15\n",
      "bad_left_leg_angle        3\n",
      "Name: count, dtype: int64\n"
     ]
    }
   ],
   "source": [
    "# 나쁜 자세의 세부 사항 확인\n",
    "bad_posture_details = df[df['label'] == 'bad_posture']['details'].explode()\n",
    "bad_posture_counts = bad_posture_details.value_counts()\n",
    "print(bad_posture_counts)"
   ]
  },
  {
   "cell_type": "code",
   "execution_count": 109,
   "id": "8bca7911-c9fa-4295-9fd0-f766b2bb3867",
   "metadata": {},
   "outputs": [
    {
     "name": "stderr",
     "output_type": "stream",
     "text": [
      "C:\\Users\\SSAFY\\AppData\\Local\\Temp\\ipykernel_6776\\3571547060.py:3: FutureWarning: \n",
      "\n",
      "Passing `palette` without assigning `hue` is deprecated and will be removed in v0.14.0. Assign the `x` variable to `hue` and set `legend=False` for the same effect.\n",
      "\n",
      "  sns.barplot(x=bad_posture_counts.index, y=bad_posture_counts.values, palette='viridis')\n"
     ]
    },
    {
     "data": {
      "image/png": "[encoded data removed]",
      "text/plain": [
       "<Figure size 1400x800 with 1 Axes>"
      ]
     },
     "metadata": {},
     "output_type": "display_data"
    }
   ],
   "source": [
    "# 나쁜 자세 세부 사항 시각화\n",
    "plt.figure(figsize=(14, 8))\n",
    "sns.barplot(x=bad_posture_counts.index, y=bad_posture_counts.values, palette='viridis')\n",
    "plt.title('Distribution of Bad Posture Details')\n",
    "plt.xlabel('Bad Posture Detail')\n",
    "plt.ylabel('Count')\n",
    "plt.xticks(rotation=45)\n",
    "plt.show()"
   ]
  },
  {
   "cell_type": "code",
   "execution_count": null,
   "id": "d471a569-5ef2-4c40-a0ba-fadf219f1a6f",
   "metadata": {},
   "outputs": [],
   "source": []
  },
  {
   "cell_type": "code",
   "execution_count": null,
   "id": "fef85c37-bffd-4272-bae0-5622842ccd4c",
   "metadata": {},
   "outputs": [],
   "source": []
  },
  {
   "cell_type": "code",
   "execution_count": null,
   "id": "252c1e07-dac8-4a49-8c69-74ee517f21f2",
   "metadata": {},
   "outputs": [],
   "source": []
  },
  {
   "cell_type": "code",
   "execution_count": null,
   "id": "fd9838c5-e5c9-4ed4-b255-53a43e734d28",
   "metadata": {},
   "outputs": [],
   "source": []
  },
  {
   "cell_type": "code",
   "execution_count": null,
   "id": "53b35855-08ab-4d16-9116-6ed07d2d1ff4",
   "metadata": {},
   "outputs": [],
   "source": []
  },
  {
   "cell_type": "code",
   "execution_count": null,
   "id": "26e82fe8-97b7-4b1d-8aec-9d170433bd22",
   "metadata": {},
   "outputs": [],
   "source": []
  },
  {
   "cell_type": "code",
   "execution_count": null,
   "id": "43f985ab-61d7-4383-8eeb-6c05b77c627f",
   "metadata": {},
   "outputs": [],
   "source": []
  },
  {
   "cell_type": "code",
   "execution_count": null,
   "id": "bf55761c-07a8-4f54-9861-124e492b4b87",
   "metadata": {},
   "outputs": [],
   "source": []
  },
  {
   "cell_type": "code",
   "execution_count": null,
   "id": "edca4b15-09ec-4144-b668-378d9f090c5d",
   "metadata": {},
   "outputs": [],
   "source": []
  }
 ],
 "metadata": {
  "kernelspec": {
   "display_name": "Python 3 (ipykernel)",
   "language": "python",
   "name": "python3"
  },
  "language_info": {
   "codemirror_mode": {
    "name": "ipython",
    "version": 3
   },
   "file_extension": ".py",
   "mimetype": "text/x-python",
   "name": "python",
   "nbconvert_exporter": "python",
   "pygments_lexer": "ipython3",
   "version": "3.11.9"
  }
 },
 "nbformat": 4,
 "nbformat_minor": 5
}
